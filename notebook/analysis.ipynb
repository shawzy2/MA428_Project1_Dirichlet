{
 "cells": [
  {
   "cell_type": "markdown",
   "id": "distributed-trainer",
   "metadata": {},
   "source": [
    "# MA428 Numerical Analysis Project 1\n",
    "## Dirichlet Problem"
   ]
  },
  {
   "cell_type": "code",
   "execution_count": 1,
   "id": "current-behavior",
   "metadata": {},
   "outputs": [],
   "source": [
    "import numpy as np\n",
    "import pandas as pd\n",
    "import matplotlib.pylab as plt\n",
    "import math\n",
    "import sys"
   ]
  },
  {
   "cell_type": "markdown",
   "id": "expensive-satellite",
   "metadata": {},
   "source": [
    "<img src=\"images/ma428_p1_intro.png\"/>"
   ]
  },
  {
   "cell_type": "markdown",
   "id": "comprehensive-guest",
   "metadata": {},
   "source": [
    "### 1(a)\n",
    "<img src=\"images/ma428_p1_1a.png\"/>\n",
    "<img src=\"images/ma428_p1_1a_ans.png\"/>\n",
    "The graph paper grid lines do not show up very well--sorry!"
   ]
  },
  {
   "cell_type": "markdown",
   "id": "official-poster",
   "metadata": {},
   "source": [
    "### 1(b)\n",
    "<img src=\"images/ma428_p1_1b.png\"/>\n",
    "<img src=\"images/ma428_p1_1b_ans.png\"/>"
   ]
  },
  {
   "cell_type": "markdown",
   "id": "given-lotus",
   "metadata": {},
   "source": [
    "### 1(c)\n",
    "<img src=\"images/ma428_p1_1c.png\"/>"
   ]
  },
  {
   "cell_type": "code",
   "execution_count": 2,
   "id": "handy-authority",
   "metadata": {},
   "outputs": [],
   "source": [
    "def grid_generator(p):\n",
    "    h = 1 / (2**p)  # calculate specified grid size\n",
    "    \n",
    "    # calculate number of indices that can fit in the bottom block (where 0<y<2)\n",
    "    block1_row_indices = 5 / h - 1\n",
    "    block1_column_indices = 2 / h - 1\n",
    "    block1_indices = block1_row_indices * block1_column_indices\n",
    "    \n",
    "    # calculate number of indices that can fit in the middle block (where 2<=y<3)\n",
    "    block2_row_indices = 3 / h - 1\n",
    "    block2_column_indices = 1 / h\n",
    "    block2_indices = block2_row_indices * block2_column_indices\n",
    "    \n",
    "    # calculate number of indices that can fit in the top block (where 3<=y<4)\n",
    "    block3_row_indices = 2 / h - 1\n",
    "    block3_column_indices = 1 / h\n",
    "    block3_indices = block3_row_indices * block3_column_indices\n",
    "    \n",
    "    matrix_indices = int(block1_indices + block2_indices + block3_indices)\n",
    "    \n",
    "    level_boundaries = {}\n",
    "    for i in range(0, int(matrix_indices)):\n",
    "        if block1_column_indices > 0:\n",
    "            level_boundaries[i] = int(block1_row_indices)\n",
    "            block1_column_indices -= 1\n",
    "        elif block2_column_indices > 0:\n",
    "            level_boundaries[i] = int(block2_row_indices)\n",
    "            block2_column_indices -= 1\n",
    "        elif block3_column_indices > 0:\n",
    "            level_boundaries[i] = int(block3_row_indices)\n",
    "            block3_column_indices -= 1\n",
    "    print('number of points in each \\'level\\' of domain: ' + str(level_boundaries))\n",
    "    \n",
    "    \n",
    "    # A matrix\n",
    "    A = []\n",
    "    \n",
    "    # loop through each 'u'\n",
    "    for i in range(0, matrix_indices):\n",
    "        u = []\n",
    "        \n",
    "        counter = 0\n",
    "        for row in range(0, len(level_boundaries)):\n",
    "            items_in_row = level_boundaries[row]\n",
    "            for j in range(0, items_in_row):\n",
    "                if counter == i:                                       # current position\n",
    "                    u.append(4)   \n",
    "                elif counter+1 == i and j+1 < items_in_row:            # left neighbor\n",
    "                    u.append(-1)\n",
    "                elif counter-1 == i and j > 0:                         # right neighbor\n",
    "                    u.append(-1)\n",
    "                elif row > 0 and counter-level_boundaries[row-1] == i: # upstairs neighbor\n",
    "                    u.append(-1)\n",
    "                elif row < len(level_boundaries)-1 and \\\n",
    "                        j < level_boundaries[row+1] and \\\n",
    "                        counter+level_boundaries[row] == i:            # downstairs neighbor\n",
    "                            u.append(-1)\n",
    "                else:\n",
    "                    u.append(0)\n",
    "                counter += 1 \n",
    "            \n",
    "        A.append(u)\n",
    "        \n",
    "    \n",
    "    return np.matrix(A)"
   ]
  },
  {
   "cell_type": "code",
   "execution_count": 7,
   "id": "communist-stand",
   "metadata": {},
   "outputs": [
    {
     "name": "stdout",
     "output_type": "stream",
     "text": [
      "number of points in each 'level' of domain: {0: 4, 1: 2, 2: 1}\n",
      "[[ 4 -1  0  0 -1  0  0]\n",
      " [-1  4 -1  0  0 -1  0]\n",
      " [ 0 -1  4 -1  0  0  0]\n",
      " [ 0  0 -1  4  0  0  0]\n",
      " [-1  0  0  0  4 -1 -1]\n",
      " [ 0 -1  0  0 -1  4  0]\n",
      " [ 0  0  0  0 -1  0  4]]\n",
      "dimensions of matrix: (7, 7)\n"
     ]
    }
   ],
   "source": [
    "a = grid_generator(0)\n",
    "print(a)\n",
    "print('dimensions of matrix: ' + str(np.shape(a)))"
   ]
  },
  {
   "cell_type": "markdown",
   "id": "aging-halloween",
   "metadata": {},
   "source": [
    "### 1(d)\n",
    "<img src=\"images/ma428_p1_1d.png\"/>"
   ]
  },
  {
   "cell_type": "markdown",
   "id": "continued-watershed",
   "metadata": {},
   "source": [
    "* Using h=1/2^0"
   ]
  },
  {
   "cell_type": "code",
   "execution_count": 4,
   "id": "responsible-leonard",
   "metadata": {},
   "outputs": [
    {
     "name": "stdout",
     "output_type": "stream",
     "text": [
      "number of points in each 'level' of domain: {0: 4, 1: 2, 2: 1}\n",
      "dimensions of matrix: (7, 7)\n"
     ]
    },
    {
     "data": {
      "text/plain": [
       "<matplotlib.image.AxesImage at 0x7ffdbeb3b970>"
      ]
     },
     "execution_count": 4,
     "metadata": {},
     "output_type": "execute_result"
    },
    {
     "data": {
      "image/png": "[encoded data removed]",
      "text/plain": [
       "<Figure size 432x288 with 1 Axes>"
      ]
     },
     "metadata": {
      "needs_background": "light"
     },
     "output_type": "display_data"
    }
   ],
   "source": [
    "A = grid_generator(0)\n",
    "print('dimensions of matrix: ' + str(np.shape(A)))\n",
    "plt.spy(A)"
   ]
  },
  {
   "cell_type": "markdown",
   "id": "healthy-shooting",
   "metadata": {},
   "source": [
    "* Using h=1/2^1"
   ]
  },
  {
   "cell_type": "code",
   "execution_count": 156,
   "id": "reflected-balance",
   "metadata": {},
   "outputs": [
    {
     "name": "stdout",
     "output_type": "stream",
     "text": [
      "number of points in each 'level' of domain: {0: 9, 1: 9, 2: 9, 3: 5, 4: 5, 5: 3, 6: 3}\n",
      "dimensions of matrix: (43, 43)\n"
     ]
    },
    {
     "data": {
      "text/plain": [
       "<matplotlib.image.AxesImage at 0x7ffe28e33d60>"
      ]
     },
     "execution_count": 156,
     "metadata": {},
     "output_type": "execute_result"
    },
    {
     "data": {
      "image/png": "[encoded data removed]",
      "text/plain": [
       "<Figure size 432x288 with 1 Axes>"
      ]
     },
     "metadata": {
      "needs_background": "light"
     },
     "output_type": "display_data"
    }
   ],
   "source": [
    "A = grid_generator(1)\n",
    "print('dimensions of matrix: ' + str(np.shape(A)))\n",
    "plt.spy(A)"
   ]
  },
  {
   "cell_type": "markdown",
   "id": "matched-lighting",
   "metadata": {},
   "source": [
    "* Using h=1/2^2"
   ]
  },
  {
   "cell_type": "code",
   "execution_count": 150,
   "id": "south-basic",
   "metadata": {},
   "outputs": [
    {
     "name": "stdout",
     "output_type": "stream",
     "text": [
      "number of points in each 'level' of domain: {0: 19, 1: 19, 2: 19, 3: 19, 4: 19, 5: 19, 6: 19, 7: 11, 8: 11, 9: 11, 10: 11, 11: 7, 12: 7, 13: 7, 14: 7}\n",
      "dimensions of matrix: (205, 205)\n"
     ]
    },
    {
     "data": {
      "text/plain": [
       "<matplotlib.image.AxesImage at 0x7ffecef278b0>"
      ]
     },
     "execution_count": 150,
     "metadata": {},
     "output_type": "execute_result"
    },
    {
     "data": {
      "image/png": "[encoded data removed]",
      "text/plain": [
       "<Figure size 432x288 with 1 Axes>"
      ]
     },
     "metadata": {
      "needs_background": "light"
     },
     "output_type": "display_data"
    }
   ],
   "source": [
    "A = grid_generator(2)\n",
    "print('dimensions of matrix: ' + str(np.shape(A)))\n",
    "plt.spy(A)"
   ]
  },
  {
   "cell_type": "markdown",
   "id": "accredited-ireland",
   "metadata": {},
   "source": [
    "* Using h=1/2^3"
   ]
  },
  {
   "cell_type": "code",
   "execution_count": 151,
   "id": "destroyed-leonard",
   "metadata": {},
   "outputs": [
    {
     "name": "stdout",
     "output_type": "stream",
     "text": [
      "number of points in each 'level' of domain: {0: 39, 1: 39, 2: 39, 3: 39, 4: 39, 5: 39, 6: 39, 7: 39, 8: 39, 9: 39, 10: 39, 11: 39, 12: 39, 13: 39, 14: 39, 15: 23, 16: 23, 17: 23, 18: 23, 19: 23, 20: 23, 21: 23, 22: 23, 23: 15, 24: 15, 25: 15, 26: 15, 27: 15, 28: 15, 29: 15, 30: 15}\n",
      "dimensions of matrix: (889, 889)\n"
     ]
    },
    {
     "data": {
      "text/plain": [
       "<matplotlib.image.AxesImage at 0x7ffecef38cd0>"
      ]
     },
     "execution_count": 151,
     "metadata": {},
     "output_type": "execute_result"
    },
    {
     "data": {
      "image/png": "[encoded data removed]",
      "text/plain": [
       "<Figure size 432x288 with 1 Axes>"
      ]
     },
     "metadata": {
      "needs_background": "light"
     },
     "output_type": "display_data"
    }
   ],
   "source": [
    "A = grid_generator(3)\n",
    "print('dimensions of matrix: ' + str(np.shape(A)))\n",
    "plt.spy(A)"
   ]
  },
  {
   "cell_type": "markdown",
   "id": "western-taxation",
   "metadata": {},
   "source": [
    "* Using h=1/2^4 ~ takes about 35 seconds on my machine (Macbook 2016 m3, 8gb ram)"
   ]
  },
  {
   "cell_type": "code",
   "execution_count": 152,
   "id": "several-rolling",
   "metadata": {},
   "outputs": [
    {
     "name": "stdout",
     "output_type": "stream",
     "text": [
      "number of points in each 'level' of domain: {0: 79, 1: 79, 2: 79, 3: 79, 4: 79, 5: 79, 6: 79, 7: 79, 8: 79, 9: 79, 10: 79, 11: 79, 12: 79, 13: 79, 14: 79, 15: 79, 16: 79, 17: 79, 18: 79, 19: 79, 20: 79, 21: 79, 22: 79, 23: 79, 24: 79, 25: 79, 26: 79, 27: 79, 28: 79, 29: 79, 30: 79, 31: 47, 32: 47, 33: 47, 34: 47, 35: 47, 36: 47, 37: 47, 38: 47, 39: 47, 40: 47, 41: 47, 42: 47, 43: 47, 44: 47, 45: 47, 46: 47, 47: 31, 48: 31, 49: 31, 50: 31, 51: 31, 52: 31, 53: 31, 54: 31, 55: 31, 56: 31, 57: 31, 58: 31, 59: 31, 60: 31, 61: 31, 62: 31}\n",
      "dimensions of matrix: (3697, 3697)\n"
     ]
    },
    {
     "data": {
      "text/plain": [
       "<matplotlib.image.AxesImage at 0x7ffed0ab7ac0>"
      ]
     },
     "execution_count": 152,
     "metadata": {},
     "output_type": "execute_result"
    },
    {
     "data": {
      "image/png": "[encoded data removed]",
      "text/plain": [
       "<Figure size 432x288 with 1 Axes>"
      ]
     },
     "metadata": {
      "needs_background": "light"
     },
     "output_type": "display_data"
    }
   ],
   "source": [
    "A = grid_generator(4)\n",
    "print('dimensions of matrix: ' + str(np.shape(A)))\n",
    "plt.spy(A)"
   ]
  },
  {
   "cell_type": "markdown",
   "id": "likely-fortune",
   "metadata": {},
   "source": [
    "* Using h=1/2^5 ~ takes 4 minutes, 11 seconds on my machine (Macbook 2016 m3, 8gb ram)"
   ]
  },
  {
   "cell_type": "code",
   "execution_count": 153,
   "id": "atlantic-cache",
   "metadata": {},
   "outputs": [
    {
     "name": "stdout",
     "output_type": "stream",
     "text": [
      "number of points in each 'level' of domain: {0: 159, 1: 159, 2: 159, 3: 159, 4: 159, 5: 159, 6: 159, 7: 159, 8: 159, 9: 159, 10: 159, 11: 159, 12: 159, 13: 159, 14: 159, 15: 159, 16: 159, 17: 159, 18: 159, 19: 159, 20: 159, 21: 159, 22: 159, 23: 159, 24: 159, 25: 159, 26: 159, 27: 159, 28: 159, 29: 159, 30: 159, 31: 159, 32: 159, 33: 159, 34: 159, 35: 159, 36: 159, 37: 159, 38: 159, 39: 159, 40: 159, 41: 159, 42: 159, 43: 159, 44: 159, 45: 159, 46: 159, 47: 159, 48: 159, 49: 159, 50: 159, 51: 159, 52: 159, 53: 159, 54: 159, 55: 159, 56: 159, 57: 159, 58: 159, 59: 159, 60: 159, 61: 159, 62: 159, 63: 95, 64: 95, 65: 95, 66: 95, 67: 95, 68: 95, 69: 95, 70: 95, 71: 95, 72: 95, 73: 95, 74: 95, 75: 95, 76: 95, 77: 95, 78: 95, 79: 95, 80: 95, 81: 95, 82: 95, 83: 95, 84: 95, 85: 95, 86: 95, 87: 95, 88: 95, 89: 95, 90: 95, 91: 95, 92: 95, 93: 95, 94: 95, 95: 63, 96: 63, 97: 63, 98: 63, 99: 63, 100: 63, 101: 63, 102: 63, 103: 63, 104: 63, 105: 63, 106: 63, 107: 63, 108: 63, 109: 63, 110: 63, 111: 63, 112: 63, 113: 63, 114: 63, 115: 63, 116: 63, 117: 63, 118: 63, 119: 63, 120: 63, 121: 63, 122: 63, 123: 63, 124: 63, 125: 63, 126: 63}\n",
      "dimensions of matrix: (15073, 15073)\n"
     ]
    },
    {
     "data": {
      "text/plain": [
       "<matplotlib.image.AxesImage at 0x7ffed0b41460>"
      ]
     },
     "execution_count": 153,
     "metadata": {},
     "output_type": "execute_result"
    },
    {
     "data": {
      "image/png": "[encoded data removed]",
      "text/plain": [
       "<Figure size 432x288 with 1 Axes>"
      ]
     },
     "metadata": {
      "needs_background": "light"
     },
     "output_type": "display_data"
    }
   ],
   "source": [
    "A = grid_generator(5)\n",
    "print('dimensions of matrix: ' + str(np.shape(A)))\n",
    "plt.spy(A)"
   ]
  },
  {
   "cell_type": "markdown",
   "id": "outer-saying",
   "metadata": {},
   "source": [
    "###### Commentary\n",
    "As the grid size becomes smaller, the grid becomes 'smoother' as can be seen by the above output. We can imagine the reasoning of this because each row in the matrix has at most 5 non-zero entries (current position, left and right neighbor, upstairs and downstairs neighbor). \n",
    "\n",
    "However, this smoothing functionality requires a great amount of computational power--even for this small domain. Imagine much larger domains like city maps or airplane blueprints and we are limited to the amount of smoothness we can acheive. "
   ]
  },
  {
   "cell_type": "markdown",
   "id": "sunset-wheat",
   "metadata": {},
   "source": [
    "-----\n",
    "### 2\n",
    "<img src=\"images/ma428_p1_2.png\"/>"
   ]
  },
  {
   "cell_type": "code",
   "execution_count": 265,
   "id": "proprietary-melissa",
   "metadata": {},
   "outputs": [],
   "source": [
    "# flag to print out static image of plot\n",
    "%matplotlib inline\n",
    "# flag to display interactive module of plot\n",
    "# %matplotlib notebook"
   ]
  },
  {
   "cell_type": "code",
   "execution_count": 209,
   "id": "regular-questionnaire",
   "metadata": {},
   "outputs": [],
   "source": [
    "# map indices to x and y coordinates\n",
    "def map_indices(p):\n",
    "    h = 1 / (2**p)  # calculate specified grid size\n",
    "    \n",
    "    # calculate number of indices that can fit in the bottom block (where 0<y<2)\n",
    "    block1_row_indices = 5 / h - 1\n",
    "    block1_column_indices = 2 / h - 1\n",
    "    block1_indices = block1_row_indices * block1_column_indices\n",
    "    \n",
    "    # calculate number of indices that can fit in the middle block (where 2<=y<3)\n",
    "    block2_row_indices = 3 / h - 1\n",
    "    block2_column_indices = 1 / h\n",
    "    block2_indices = block2_row_indices * block2_column_indices\n",
    "    \n",
    "    # calculate number of indices that can fit in the top block (where 3<=y<4)\n",
    "    block3_row_indices = 2 / h - 1\n",
    "    block3_column_indices = 1 / h\n",
    "    block3_indices = block3_row_indices * block3_column_indices\n",
    "    \n",
    "    matrix_indices = int(block1_indices + block2_indices + block3_indices)\n",
    "    \n",
    "    level_boundaries = {}\n",
    "    for i in range(0, int(matrix_indices)):\n",
    "        if block1_column_indices > 0:\n",
    "            level_boundaries[i] = int(block1_row_indices)\n",
    "            block1_column_indices -= 1\n",
    "        elif block2_column_indices > 0:\n",
    "            level_boundaries[i] = int(block2_row_indices)\n",
    "            block2_column_indices -= 1\n",
    "        elif block3_column_indices > 0:\n",
    "            level_boundaries[i] = int(block3_row_indices)\n",
    "            block3_column_indices -= 1\n",
    "    \n",
    "    \n",
    "    # list to track indices\n",
    "    indices = []\n",
    "    \n",
    "    # loop through each 'u'\n",
    "    x_coord = h\n",
    "    y_coord = h\n",
    "    level_counter = 0\n",
    "    level_current_level = 0\n",
    "    for i in range(0, matrix_indices):\n",
    "        u = []\n",
    "        if level_counter >= level_boundaries[level_current_level]:  # check if we need to move up a row in domain\n",
    "            level_current_level += 1\n",
    "            level_counter = 0\n",
    "            x_coord = h\n",
    "            y_coord += h\n",
    "            \n",
    "        u.append(x_coord)  # append x and y coordinates\n",
    "        u.append(y_coord)\n",
    "        x_coord += h       # increment x coordinate\n",
    "        level_counter += 1 # keep track of how many indices are left in row\n",
    "        indices.append(u)  # add this indice to the list of indices\n",
    "        \n",
    "    return indices\n",
    "\n",
    "# get the limits of the domain\n",
    "# We're basically just drawing the domain here\n",
    "def map_domain_coord(p):\n",
    "    h = 1 / (2**p)  # calculate specified grid size\n",
    "    coords = []\n",
    "    x = 0\n",
    "    y = 0\n",
    "    while x < 5:\n",
    "        coords.append([x, y, 0])\n",
    "        x += h\n",
    "    \n",
    "    while y < 2:\n",
    "        coords.append([x, y, 0])\n",
    "        y += h\n",
    "    \n",
    "    while x > 3:\n",
    "        coords.append([x, y, 0])\n",
    "        x -= h\n",
    "    \n",
    "    while y < 3:\n",
    "        coords.append([x, y, 0])\n",
    "        y += h\n",
    "    \n",
    "    while x > 2:\n",
    "        coords.append([x, y, 0])\n",
    "        x -= h\n",
    "    \n",
    "    while y < 4:\n",
    "        coords.append([x, y, 0])\n",
    "        y += h\n",
    "    \n",
    "    while x > 0:\n",
    "        coords.append([x, y, 0])\n",
    "        x -= h\n",
    "    \n",
    "    while y >= 0:\n",
    "        coords.append([x, y, 0])\n",
    "        y -= h\n",
    "        \n",
    "    coords = pd.DataFrame(coords)\n",
    "    coords.columns = ['x', 'y', 'z']\n",
    "    return coords"
   ]
  },
  {
   "cell_type": "markdown",
   "id": "satisfied-wells",
   "metadata": {},
   "source": [
    "##### First Function\n",
    "<img src=\"images/ma_428_p1_2func1.png\"/>"
   ]
  },
  {
   "cell_type": "code",
   "execution_count": 257,
   "id": "official-bronze",
   "metadata": {},
   "outputs": [],
   "source": [
    "# second function in given prompt\n",
    "def function_one(indices):\n",
    "    df = pd.DataFrame(indices)\n",
    "    df['f_result'] = df[0]*np.exp(-1*df[0]**2 - df[1]**2 + 3*df[0]*df[1])\n",
    "    return df['f_result']"
   ]
  },
  {
   "cell_type": "code",
   "execution_count": 267,
   "id": "adaptive-twenty",
   "metadata": {},
   "outputs": [
    {
     "name": "stdout",
     "output_type": "stream",
     "text": [
      "number of points in each 'level' of domain: {0: 79, 1: 79, 2: 79, 3: 79, 4: 79, 5: 79, 6: 79, 7: 79, 8: 79, 9: 79, 10: 79, 11: 79, 12: 79, 13: 79, 14: 79, 15: 79, 16: 79, 17: 79, 18: 79, 19: 79, 20: 79, 21: 79, 22: 79, 23: 79, 24: 79, 25: 79, 26: 79, 27: 79, 28: 79, 29: 79, 30: 79, 31: 47, 32: 47, 33: 47, 34: 47, 35: 47, 36: 47, 37: 47, 38: 47, 39: 47, 40: 47, 41: 47, 42: 47, 43: 47, 44: 47, 45: 47, 46: 47, 47: 31, 48: 31, 49: 31, 50: 31, 51: 31, 52: 31, 53: 31, 54: 31, 55: 31, 56: 31, 57: 31, 58: 31, 59: 31, 60: 31, 61: 31, 62: 31}\n"
     ]
    },
    {
     "data": {
      "image/png": "[encoded data removed]",
      "text/plain": [
       "<Figure size 432x288 with 1 Axes>"
      ]
     },
     "metadata": {
      "needs_background": "light"
     },
     "output_type": "display_data"
    }
   ],
   "source": [
    "# perform guassian elimination on u = A^-1 * b\n",
    "p = 4                            # size of grid\n",
    "A = grid_generator(p)            # grid generator\n",
    "indices = map_indices(p)         # save the list of indices in the domain\n",
    "func1_xy = function_one(indices) # calculate the f(x,y) using the list of indices\n",
    "z = np.linalg.solve(A, func1_xy) # perform gausian elimination and get z-coordinates\n",
    "\n",
    "# prepare x, y, and z coordinates for matplotlib\n",
    "df_plot = pd.DataFrame(indices)\n",
    "df_plot['z'] = z\n",
    "df_plot.columns = ['x', 'y', 'z']\n",
    "df_plot = pd.concat([df_plot, map_domain_coord(p)]) # add 'domain coordinates' -- allows us to draw figure down to z=0 boundary\n",
    "\n",
    "# plot figure using matplot lib\n",
    "fig = plt.figure()\n",
    "ax = fig.add_subplot(111, projection='3d')\n",
    "ax.plot_trisurf(df_plot['x'], df_plot['y'], df_plot['z'])\n",
    "ax.view_init(elev=30, azim=-37.5)\n",
    "plt.show()"
   ]
  },
  {
   "cell_type": "markdown",
   "id": "roman-strain",
   "metadata": {},
   "source": [
    "##### Second Function\n",
    "<img src=\"images/ma_428_p1_2func2.png\"/>"
   ]
  },
  {
   "cell_type": "code",
   "execution_count": 268,
   "id": "associate-constant",
   "metadata": {},
   "outputs": [],
   "source": [
    "# second function in given prompt\n",
    "def function_two(indices):\n",
    "    df = pd.DataFrame(indices)\n",
    "    df['f_result'] = df[0]*(df[0]*4 - df[1])**3\n",
    "    return df['f_result']"
   ]
  },
  {
   "cell_type": "code",
   "execution_count": 269,
   "id": "latin-shareware",
   "metadata": {},
   "outputs": [
    {
     "name": "stdout",
     "output_type": "stream",
     "text": [
      "number of points in each 'level' of domain: {0: 79, 1: 79, 2: 79, 3: 79, 4: 79, 5: 79, 6: 79, 7: 79, 8: 79, 9: 79, 10: 79, 11: 79, 12: 79, 13: 79, 14: 79, 15: 79, 16: 79, 17: 79, 18: 79, 19: 79, 20: 79, 21: 79, 22: 79, 23: 79, 24: 79, 25: 79, 26: 79, 27: 79, 28: 79, 29: 79, 30: 79, 31: 47, 32: 47, 33: 47, 34: 47, 35: 47, 36: 47, 37: 47, 38: 47, 39: 47, 40: 47, 41: 47, 42: 47, 43: 47, 44: 47, 45: 47, 46: 47, 47: 31, 48: 31, 49: 31, 50: 31, 51: 31, 52: 31, 53: 31, 54: 31, 55: 31, 56: 31, 57: 31, 58: 31, 59: 31, 60: 31, 61: 31, 62: 31}\n"
     ]
    },
    {
     "data": {
      "image/png": "[encoded data removed]",
      "text/plain": [
       "<Figure size 432x288 with 1 Axes>"
      ]
     },
     "metadata": {
      "needs_background": "light"
     },
     "output_type": "display_data"
    }
   ],
   "source": [
    "# perform guassian elimination on u = A^-1 * b\n",
    "p = 4                            # size of grid\n",
    "A = grid_generator(p)            # grid generator\n",
    "indices = map_indices(p)         # save the list of indices in the domain\n",
    "func2_xy = function_two(indices) # calculate the f(x,y) using the list of indices\n",
    "z = np.linalg.solve(A, func2_xy) # perform gausian elimination and get z-coordinates\n",
    "\n",
    "# prepare x, y, and z coordinates for matplotlib\n",
    "df_plot = pd.DataFrame(indices)\n",
    "df_plot['z'] = z\n",
    "df_plot.columns = ['x', 'y', 'z']\n",
    "df_plot = pd.concat([df_plot, map_domain_coord(p)]) # add 'domain coordinates' -- allows us to draw figure down to z=0 boundary\n",
    "\n",
    "# plot figure using matplot lib\n",
    "fig = plt.figure()\n",
    "ax = fig.add_subplot(111, projection='3d')\n",
    "ax.plot_trisurf(df_plot['x'], df_plot['y'], df_plot['z'])\n",
    "ax.view_init(elev=30, azim=-37.5)\n",
    "plt.show()"
   ]
  },
  {
   "cell_type": "code",
   "execution_count": null,
   "id": "sweet-account",
   "metadata": {},
   "outputs": [],
   "source": []
  },
  {
   "cell_type": "code",
   "execution_count": null,
   "id": "viral-athletics",
   "metadata": {},
   "outputs": [],
   "source": []
  },
  {
   "cell_type": "code",
   "execution_count": null,
   "id": "eastern-bundle",
   "metadata": {},
   "outputs": [],
   "source": []
  },
  {
   "cell_type": "code",
   "execution_count": null,
   "id": "reasonable-customs",
   "metadata": {},
   "outputs": [],
   "source": [
    "\n",
    "\n",
    "\n",
    "\n",
    "\n",
    "\n",
    "\n",
    "\n",
    "\n",
    "\n",
    "\n",
    "\n",
    "\n",
    "\n",
    "\n",
    "\n",
    "\n",
    "\n",
    "\n",
    "\n",
    "\n",
    "\n",
    "\n",
    "\n",
    "\n",
    "\n",
    "\n",
    "\n",
    "\n",
    "\n",
    "\n",
    "\n",
    "\n",
    "\n",
    "\n",
    "\n",
    "\n",
    "\n",
    "\n",
    "\n"
   ]
  }
 ],
 "metadata": {
  "kernelspec": {
   "display_name": "Python 3",
   "language": "python",
   "name": "python3"
  },
  "language_info": {
   "codemirror_mode": {
    "name": "ipython",
    "version": 3
   },
   "file_extension": ".py",
   "mimetype": "text/x-python",
   "name": "python",
   "nbconvert_exporter": "python",
   "pygments_lexer": "ipython3",
   "version": "3.8.1"
  }
 },
 "nbformat": 4,
 "nbformat_minor": 5
}
